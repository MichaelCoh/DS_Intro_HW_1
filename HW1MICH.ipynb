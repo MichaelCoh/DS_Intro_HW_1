{
 "cells": [
  {
   "cell_type": "code",
   "execution_count": 17,
   "id": "918cac75",
   "metadata": {
    "scrolled": true
   },
   "outputs": [],
   "source": [
    "#Q1\n",
    "def my_func(x1,x2,x3):\n",
    "    if (x1+x2+x3 == 0):\n",
    "        return print(\"Not a number – denominator equals zero\")\n",
    "     \n",
    "    elif (type(x1)!= float) | (type(x2)!= float) | (type(x3)!= float)  :\n",
    "        return print(\"Error: parameters should be float\")\n",
    "    else :\n",
    "        return ((x1+x2+x3)*(x2+x3)*x3)/(x1+x2+x3)\n",
    "        \n",
    "       "
   ]
  },
  {
   "cell_type": "code",
   "execution_count": 21,
   "id": "9c7037a9",
   "metadata": {},
   "outputs": [
    {
     "data": {
      "text/plain": [
       "15.0"
      ]
     },
     "execution_count": 21,
     "metadata": {},
     "output_type": "execute_result"
    }
   ],
   "source": [
    "my_func(-1.0,2.0,-5.0)"
   ]
  },
  {
   "cell_type": "code",
   "execution_count": 24,
   "id": "b55d5dfd",
   "metadata": {},
   "outputs": [],
   "source": [
    "#Q2\n",
    "def convert(hours, minutes):\n",
    "    if (hours<0) | (minutes<0):\n",
    "        return print('Input error!')\n",
    "    return 60*60*hours + minutes*60"
   ]
  },
  {
   "cell_type": "code",
   "execution_count": 26,
   "id": "eb8c17bb",
   "metadata": {},
   "outputs": [
    {
     "data": {
      "text/plain": [
       "11892.0"
      ]
     },
     "execution_count": 26,
     "metadata": {},
     "output_type": "execute_result"
    }
   ],
   "source": [
    "convert(3.25,3.2)"
   ]
  },
  {
   "cell_type": "code",
   "execution_count": null,
   "id": "bffcfcf0",
   "metadata": {},
   "outputs": [],
   "source": []
  }
 ],
 "metadata": {
  "kernelspec": {
   "display_name": "Python 3 (ipykernel)",
   "language": "python",
   "name": "python3"
  },
  "language_info": {
   "codemirror_mode": {
    "name": "ipython",
    "version": 3
   },
   "file_extension": ".py",
   "mimetype": "text/x-python",
   "name": "python",
   "nbconvert_exporter": "python",
   "pygments_lexer": "ipython3",
   "version": "3.9.7"
  }
 },
 "nbformat": 4,
 "nbformat_minor": 5
}
